{
 "cells": [
  {
   "cell_type": "code",
   "execution_count": 95,
   "id": "9dfd7fd3-6061-4880-9a49-bf478c79cb16",
   "metadata": {},
   "outputs": [],
   "source": [
    "import numpy as np\n",
    "import pandas as pd\n",
    "from sklearn.linear_model import Perceptron\n",
    "from sklearn.model_selection import train_test_split, cross_val_score, cross_val_predict\n",
    "from sklearn.impute import SimpleImputer\n",
    "from sklearn.preprocessing import OrdinalEncoder, normalize, StandardScaler\n",
    "from sklearn.metrics import accuracy_score, classification_report, roc_auc_score"
   ]
  },
  {
   "cell_type": "code",
   "execution_count": 96,
   "id": "72303ac3-8bbf-4910-94fc-3f8a1e347d72",
   "metadata": {},
   "outputs": [
    {
     "name": "stdout",
     "output_type": "stream",
     "text": [
      "   Pregnancies  Glucose  BloodPressure  SkinThickness  Insulin   BMI  DiabetesPedigreeFunction  Age  Outcome\n",
      "0            6      148             72             35        0  33.6                     0.627   50        1\n",
      "1            1       85             66             29        0  26.6                     0.351   31        0\n",
      "2            8      183             64              0        0  23.3                     0.672   32        1\n",
      "3            1       89             66             23       94  28.1                     0.167   21        0\n",
      "4            0      137             40             35      168  43.1                     2.288   33        1\n"
     ]
    }
   ],
   "source": [
    "#Read and Print diabes.csv out screen\n",
    "df = pd.read_csv('diabetes.csv')\n",
    "print(df.head().to_string())"
   ]
  },
  {
   "cell_type": "code",
   "execution_count": 97,
   "id": "bfde6028-b5c8-43fd-83f1-597f7732ae17",
   "metadata": {},
   "outputs": [
    {
     "name": "stdout",
     "output_type": "stream",
     "text": [
      "Print the missing value contains \n",
      " Pregnancies                 0\n",
      "Glucose                     0\n",
      "BloodPressure               0\n",
      "SkinThickness               0\n",
      "Insulin                     0\n",
      "BMI                         0\n",
      "DiabetesPedigreeFunction    0\n",
      "Age                         0\n",
      "Outcome                     0\n",
      "dtype: int64\n"
     ]
    }
   ],
   "source": [
    "#Drop Columns\n",
    "x = df.drop(columns=['Outcome'], axis=1)\n",
    "x_copy=x.copy()\n",
    "y = df['Outcome']\n",
    "y_copy=y.copy()\n",
    "#Print missing data\n",
    "print(\"Print the missing value contains \\n\",df.isnull().sum())"
   ]
  },
  {
   "cell_type": "code",
   "execution_count": 98,
   "id": "7fe46931-5ee2-4c81-989c-194b71b1f89e",
   "metadata": {},
   "outputs": [
    {
     "name": "stdout",
     "output_type": "stream",
     "text": [
      "Print null data\n",
      " Pregnancies                   0\n",
      "Glucose                       5\n",
      "BloodPressure                35\n",
      "SkinThickness               227\n",
      "Insulin                     374\n",
      "BMI                          11\n",
      "DiabetesPedigreeFunction      0\n",
      "Age                           0\n",
      "dtype: int64\n"
     ]
    }
   ],
   "source": [
    "feature_mising_value = ['Glucose','BloodPressure','SkinThickness','Insulin','BMI','DiabetesPedigreeFunction','Age']\n",
    "x[feature_mising_value] = x[feature_mising_value].replace(0,np.nan)\n",
    "print(\"Print null data\\n\",x.isnull().sum())"
   ]
  },
  {
   "cell_type": "code",
   "execution_count": 99,
   "id": "d3606644-a307-42b1-9b67-a2c03d95780a",
   "metadata": {},
   "outputs": [
    {
     "name": "stdout",
     "output_type": "stream",
     "text": [
      "Pregnancies                 0\n",
      "Glucose                     0\n",
      "BloodPressure               0\n",
      "SkinThickness               0\n",
      "Insulin                     0\n",
      "BMI                         0\n",
      "DiabetesPedigreeFunction    0\n",
      "Age                         0\n",
      "dtype: int64\n"
     ]
    }
   ],
   "source": [
    "#Imputer\n",
    "imputer = SimpleImputer(missing_values=np.nan,strategy='median')\n",
    "x=imputer.fit_transform(x)\n",
    "x=pd.DataFrame(x,columns=x_copy.columns)\n",
    "print(x.isnull().sum())"
   ]
  },
  {
   "cell_type": "code",
   "execution_count": 100,
   "id": "6f8af88c-fc88-4ea1-ae09-d102370905ef",
   "metadata": {},
   "outputs": [
    {
     "name": "stdout",
     "output_type": "stream",
     "text": [
      "lower_limit of Pregnancies is: -6.263682104763275 \n",
      "upper_limit of Pregnancies is: 13.953786271429943 \n",
      "num of outlier for Pregnancies is: 4\n",
      "lower_limit of Glucose is: 30.341392532754483 \n",
      "upper_limit of Glucose is: 212.97110746724553 \n",
      "num of outlier for Glucose is: 0\n",
      "lower_limit of BloodPressure is: 36.096793548065584 \n",
      "upper_limit of BloodPressure is: 108.67664395193441 \n",
      "num of outlier for BloodPressure is: 8\n",
      "lower_limit of SkinThickness is: 2.734409847397547 \n",
      "upper_limit of SkinThickness is: 55.481735985935785 \n",
      "num of outlier for SkinThickness is: 4\n",
      "lower_limit of Insulin is: -118.47730407954299 \n",
      "upper_limit of Insulin is: 399.821054079543 \n",
      "num of outlier for Insulin is: 20\n",
      "lower_limit of BMI is: 11.829677879090347 \n",
      "upper_limit of BMI is: 53.080738787576315 \n",
      "num of outlier for BMI is: 5\n",
      "lower_limit of DiabetesPedigreeFunction is: -0.5221094829549915 \n",
      "upper_limit of DiabetesPedigreeFunction is: 1.4658620871216579 \n",
      "num of outlier for DiabetesPedigreeFunction is: 11\n",
      "lower_limit of Age is: -2.0398092053693873 \n",
      "upper_limit of Age is: 68.52158003870272 \n",
      "num of outlier for Age is: 5\n"
     ]
    }
   ],
   "source": [
    "#outliner\n",
    "for col in x.columns:\n",
    "    lower_limit=x[col].mean()-3*x[col].std()\n",
    "    upper_limit=x[col].mean()+3*x[col].std()\n",
    "    print(f'lower_limit of {col} is: {lower_limit} ')\n",
    "    print(f'upper_limit of {col} is: {upper_limit} ')\n",
    "    for index in range(len(x.index) - 1):\n",
    "        if x.loc[index,col] > upper_limit or x.loc[index,col] < lower_limit:\n",
    "            x.loc[index, col] = np.nan\n",
    "    num_outlier = x[col].isnull().sum()\n",
    "    print(f'num of outlier for {col} is: {num_outlier}')\n",
    "imputer=SimpleImputer(missing_values=np.nan,strategy='median')\n",
    "x=imputer.fit_transform(x)\n",
    "x=pd.DataFrame(x,columns=x_copy.columns)"
   ]
  },
  {
   "cell_type": "code",
   "execution_count": 101,
   "id": "b21b42e3-8f71-4480-b12a-cd43d1ed9f00",
   "metadata": {},
   "outputs": [
    {
     "name": "stderr",
     "output_type": "stream",
     "text": [
      "/tmp/ipykernel_5841/268841064.py:4: FutureWarning: Setting an item of incompatible dtype is deprecated and will raise in a future error of pandas. Value 'underweight' has dtype incompatible with float64, please explicitly cast to a compatible dtype first.\n",
      "  x.loc[(x['BMI']<18.5), 'BMI_Range'] = 'underweight'\n",
      "/tmp/ipykernel_5841/268841064.py:9: FutureWarning: Setting an item of incompatible dtype is deprecated and will raise in a future error of pandas. Value 'young' has dtype incompatible with float64, please explicitly cast to a compatible dtype first.\n",
      "  x.loc[(x['Age']<25), 'Age_Range']= 'young'\n",
      "/tmp/ipykernel_5841/268841064.py:13: FutureWarning: Setting an item of incompatible dtype is deprecated and will raise in a future error of pandas. Value 'Hipoglisemi' has dtype incompatible with float64, please explicitly cast to a compatible dtype first.\n",
      "  x.loc[(x[\"Glucose\"] < 70), 'Glucose_Range'] =\"Hipoglisemi\"\n"
     ]
    }
   ],
   "source": [
    "#Feature Extraction\n",
    "x['Pregnancies/Age']= x['Pregnancies']/x['Age']\n",
    "\n",
    "x.loc[(x['BMI']<18.5), 'BMI_Range'] = 'underweight'\n",
    "x.loc[(x[\"BMI\"]>= 18.5) & (x['BMI']<24.9), 'BMI_Range'] = 'HealthyWeight'\n",
    "x.loc[(x[\"BMI\"]>=24.9) & (x['BMI']<29.9), 'BMI_Range']= 'overweight'\n",
    "x.loc[(x[\"BMI\"]>=29.9), 'BMI_Range']= 'obese'\n",
    "\n",
    "x.loc[(x['Age']<25), 'Age_Range']= 'young'\n",
    "x.loc[(x[\"Age\"]>= 25) & (x['Age']<40), 'Age_Range']= 'middle'\n",
    "x.loc[(x[\"Age\"]>=40), 'Age_Range']= 'old'\n",
    "\n",
    "x.loc[(x[\"Glucose\"] < 70), 'Glucose_Range'] =\"Hipoglisemi\"\n",
    "x.loc[(x[\"Glucose\"] >= 70) & (x['Glucose'] < 100) , 'Glucose_Range'] =\"Normal\"\n",
    "x.loc[(x[\"Glucose\"] >= 100) & (x['Glucose'] < 125) , 'Glucose_Range'] =\"Imparied_Glucose\"\n",
    "x.loc[(x[\"Glucose\"] >= 125), 'Glucose_Range'] =\"Hiperglisemi\"\n",
    "\n",
    "x['BMI/Glucose']= x['BMI']/x['Glucose']\n",
    "x['Insulin/Glucose']= x['Insulin']/x['Glucose']\n",
    "\n",
    "x_extraction= x"
   ]
  },
  {
   "cell_type": "code",
   "execution_count": 102,
   "id": "778ca6e2-1715-43cd-85d5-17c62a7c5a1e",
   "metadata": {},
   "outputs": [
    {
     "name": "stdout",
     "output_type": "stream",
     "text": [
      "     Pregnancies  Glucose  BloodPressure  SkinThickness  Insulin   BMI  \\\n",
      "0            6.0    148.0           72.0           35.0    125.0  33.6   \n",
      "1            1.0     85.0           66.0           29.0    125.0  26.6   \n",
      "2            8.0    183.0           64.0           29.0    125.0  23.3   \n",
      "3            1.0     89.0           66.0           23.0     94.0  28.1   \n",
      "4            0.0    137.0           40.0           35.0    168.0  43.1   \n",
      "..           ...      ...            ...            ...      ...   ...   \n",
      "763         10.0    101.0           76.0           48.0    180.0  32.9   \n",
      "764          2.0    122.0           70.0           27.0    125.0  36.8   \n",
      "765          5.0    121.0           72.0           23.0    112.0  26.2   \n",
      "766          1.0    126.0           60.0           29.0    125.0  30.1   \n",
      "767          1.0     93.0           70.0           31.0    125.0  30.4   \n",
      "\n",
      "     DiabetesPedigreeFunction   Age  Pregnancies/Age      BMI_Range Age_Range  \\\n",
      "0                       0.627  50.0         0.120000          obese       old   \n",
      "1                       0.351  31.0         0.032258     overweight    middle   \n",
      "2                       0.672  32.0         0.250000  HealthyWeight    middle   \n",
      "3                       0.167  21.0         0.047619     overweight     young   \n",
      "4                       0.366  33.0         0.000000          obese    middle   \n",
      "..                        ...   ...              ...            ...       ...   \n",
      "763                     0.171  63.0         0.158730          obese       old   \n",
      "764                     0.340  27.0         0.074074          obese    middle   \n",
      "765                     0.245  30.0         0.166667     overweight    middle   \n",
      "766                     0.349  47.0         0.021277          obese       old   \n",
      "767                     0.315  23.0         0.043478          obese     young   \n",
      "\n",
      "        Glucose_Range  BMI/Glucose  Insulin/Glucose  \n",
      "0        Hiperglisemi     0.227027         0.844595  \n",
      "1              Normal     0.312941         1.470588  \n",
      "2        Hiperglisemi     0.127322         0.683060  \n",
      "3              Normal     0.315730         1.056180  \n",
      "4        Hiperglisemi     0.314599         1.226277  \n",
      "..                ...          ...              ...  \n",
      "763  Imparied_Glucose     0.325743         1.782178  \n",
      "764  Imparied_Glucose     0.301639         1.024590  \n",
      "765  Imparied_Glucose     0.216529         0.925620  \n",
      "766      Hiperglisemi     0.238889         0.992063  \n",
      "767            Normal     0.326882         1.344086  \n",
      "\n",
      "[768 rows x 14 columns]\n"
     ]
    }
   ],
   "source": [
    "print(x_extraction)"
   ]
  },
  {
   "cell_type": "code",
   "execution_count": 103,
   "id": "da8cf014-c084-4c85-add3-4003e5f31187",
   "metadata": {},
   "outputs": [
    {
     "name": "stdout",
     "output_type": "stream",
     "text": [
      "Orinal Encoder\n",
      "      Pregnancies  Glucose  BloodPressure  SkinThickness  Insulin   BMI  \\\n",
      "0            6.0    148.0           72.0           35.0    125.0  33.6   \n",
      "1            1.0     85.0           66.0           29.0    125.0  26.6   \n",
      "2            8.0    183.0           64.0           29.0    125.0  23.3   \n",
      "3            1.0     89.0           66.0           23.0     94.0  28.1   \n",
      "4            0.0    137.0           40.0           35.0    168.0  43.1   \n",
      "..           ...      ...            ...            ...      ...   ...   \n",
      "763         10.0    101.0           76.0           48.0    180.0  32.9   \n",
      "764          2.0    122.0           70.0           27.0    125.0  36.8   \n",
      "765          5.0    121.0           72.0           23.0    112.0  26.2   \n",
      "766          1.0    126.0           60.0           29.0    125.0  30.1   \n",
      "767          1.0     93.0           70.0           31.0    125.0  30.4   \n",
      "\n",
      "     DiabetesPedigreeFunction   Age  Pregnancies/Age  BMI_Range  Age_Range  \\\n",
      "0                       0.627  50.0         0.120000        1.0        1.0   \n",
      "1                       0.351  31.0         0.032258        2.0        0.0   \n",
      "2                       0.672  32.0         0.250000        0.0        0.0   \n",
      "3                       0.167  21.0         0.047619        2.0        2.0   \n",
      "4                       0.366  33.0         0.000000        1.0        0.0   \n",
      "..                        ...   ...              ...        ...        ...   \n",
      "763                     0.171  63.0         0.158730        1.0        1.0   \n",
      "764                     0.340  27.0         0.074074        1.0        0.0   \n",
      "765                     0.245  30.0         0.166667        2.0        0.0   \n",
      "766                     0.349  47.0         0.021277        1.0        1.0   \n",
      "767                     0.315  23.0         0.043478        1.0        2.0   \n",
      "\n",
      "     Glucose_Range  BMI/Glucose  Insulin/Glucose  \n",
      "0              0.0     0.227027         0.844595  \n",
      "1              3.0     0.312941         1.470588  \n",
      "2              0.0     0.127322         0.683060  \n",
      "3              3.0     0.315730         1.056180  \n",
      "4              0.0     0.314599         1.226277  \n",
      "..             ...          ...              ...  \n",
      "763            2.0     0.325743         1.782178  \n",
      "764            2.0     0.301639         1.024590  \n",
      "765            2.0     0.216529         0.925620  \n",
      "766            0.0     0.238889         0.992063  \n",
      "767            3.0     0.326882         1.344086  \n",
      "\n",
      "[768 rows x 14 columns]\n"
     ]
    }
   ],
   "source": [
    "#Encoding\n",
    "orinal_encoder = OrdinalEncoder()\n",
    "x[['BMI_Range', 'Age_Range', 'Glucose_Range']]=orinal_encoder.fit_transform(x[['BMI_Range', 'Age_Range', 'Glucose_Range' ]])\n",
    "print(\"Orinal Encoder\\n\",x)"
   ]
  },
  {
   "cell_type": "code",
   "execution_count": 104,
   "id": "8a3f7b19-ff58-4ac8-8457-ca9eec7977b7",
   "metadata": {},
   "outputs": [
    {
     "name": "stdout",
     "output_type": "stream",
     "text": [
      "Normalization\n",
      "      Pregnancies   Glucose  BloodPressure  SkinThickness   Insulin       BMI  \\\n",
      "0       0.002065  0.001584       0.001297       0.001577  0.001252  0.001355   \n",
      "1       0.000344  0.000910       0.001189       0.001307  0.001252  0.001073   \n",
      "2       0.002754  0.001959       0.001153       0.001307  0.001252  0.000940   \n",
      "3       0.000344  0.000953       0.001189       0.001036  0.000942  0.001133   \n",
      "4       0.000000  0.001466       0.000720       0.001577  0.001683  0.001738   \n",
      "..           ...       ...            ...            ...       ...       ...   \n",
      "763     0.003442  0.001081       0.001369       0.002163  0.001803  0.001327   \n",
      "764     0.000688  0.001306       0.001261       0.001217  0.001252  0.001484   \n",
      "765     0.001721  0.001295       0.001297       0.001036  0.001122  0.001057   \n",
      "766     0.000344  0.001349       0.001081       0.001307  0.001252  0.001214   \n",
      "767     0.000344  0.000995       0.001261       0.001397  0.001252  0.001226   \n",
      "\n",
      "     DiabetesPedigreeFunction       Age  Pregnancies/Age  BMI_Range  \\\n",
      "0                    0.001815  0.001975         0.001454   0.001176   \n",
      "1                    0.001016  0.001225         0.000391   0.002353   \n",
      "2                    0.001946  0.001264         0.003030   0.000000   \n",
      "3                    0.000484  0.000830         0.000577   0.002353   \n",
      "4                    0.001060  0.001304         0.000000   0.001176   \n",
      "..                        ...       ...              ...        ...   \n",
      "763                  0.000495  0.002489         0.001924   0.001176   \n",
      "764                  0.000984  0.001067         0.000898   0.001176   \n",
      "765                  0.000709  0.001185         0.002020   0.002353   \n",
      "766                  0.001010  0.001857         0.000258   0.001176   \n",
      "767                  0.000912  0.000909         0.000527   0.001176   \n",
      "\n",
      "     Age_Range  Glucose_Range  BMI/Glucose  Insulin/Glucose  \n",
      "0     0.001563       0.000000     0.001059         0.001008  \n",
      "1     0.000000       0.002768     0.001459         0.001756  \n",
      "2     0.000000       0.000000     0.000594         0.000816  \n",
      "3     0.003125       0.002768     0.001472         0.001261  \n",
      "4     0.000000       0.000000     0.001467         0.001464  \n",
      "..         ...            ...          ...              ...  \n",
      "763   0.001563       0.001845     0.001519         0.002128  \n",
      "764   0.000000       0.001845     0.001407         0.001223  \n",
      "765   0.000000       0.001845     0.001010         0.001105  \n",
      "766   0.001563       0.000000     0.001114         0.001184  \n",
      "767   0.003125       0.002768     0.001524         0.001605  \n",
      "\n",
      "[768 rows x 14 columns]\n"
     ]
    }
   ],
   "source": [
    "#Normalization\n",
    "x=normalize(x,norm='l1',axis=0)\n",
    "x=pd.DataFrame(x,columns=x_extraction.columns)\n",
    "print(\"Normalization\\n\",x)"
   ]
  },
  {
   "cell_type": "code",
   "execution_count": 105,
   "id": "eaa795ca-73ec-479b-be4b-fd711ad1c1ae",
   "metadata": {},
   "outputs": [],
   "source": [
    "#Split the test\n",
    "x_train,x_test,y_train,y_test = train_test_split(x,y,test_size=0.3,random_state=1)"
   ]
  },
  {
   "cell_type": "code",
   "execution_count": 106,
   "id": "d9e55f3e-2a93-4820-819e-6247a0f2dcb8",
   "metadata": {},
   "outputs": [],
   "source": [
    "#Standarization\n",
    "scaler_ti = StandardScaler()\n",
    "x_train[['Pregnancies','Glucose','BloodPressure','SkinThickness','Insulin','BMI','DiabetesPedigreeFunction','Age']] = scaler_ti.fit_transform(x_train[['Pregnancies','Glucose','BloodPressure','SkinThickness','Insulin','BMI','DiabetesPedigreeFunction','Age']])\n",
    "x_test[['Pregnancies','Glucose','BloodPressure','SkinThickness','Insulin','BMI','DiabetesPedigreeFunction','Age']] = scaler_ti.fit_transform(x_test[['Pregnancies','Glucose','BloodPressure','SkinThickness','Insulin','BMI','DiabetesPedigreeFunction','Age']])"
   ]
  },
  {
   "cell_type": "code",
   "execution_count": 107,
   "id": "4bacf498-3e18-4d5f-8903-f50c0fc9d423",
   "metadata": {},
   "outputs": [
    {
     "data": {
      "text/html": [
       "<style>#sk-container-id-9 {color: black;}#sk-container-id-9 pre{padding: 0;}#sk-container-id-9 div.sk-toggleable {background-color: white;}#sk-container-id-9 label.sk-toggleable__label {cursor: pointer;display: block;width: 100%;margin-bottom: 0;padding: 0.3em;box-sizing: border-box;text-align: center;}#sk-container-id-9 label.sk-toggleable__label-arrow:before {content: \"▸\";float: left;margin-right: 0.25em;color: #696969;}#sk-container-id-9 label.sk-toggleable__label-arrow:hover:before {color: black;}#sk-container-id-9 div.sk-estimator:hover label.sk-toggleable__label-arrow:before {color: black;}#sk-container-id-9 div.sk-toggleable__content {max-height: 0;max-width: 0;overflow: hidden;text-align: left;background-color: #f0f8ff;}#sk-container-id-9 div.sk-toggleable__content pre {margin: 0.2em;color: black;border-radius: 0.25em;background-color: #f0f8ff;}#sk-container-id-9 input.sk-toggleable__control:checked~div.sk-toggleable__content {max-height: 200px;max-width: 100%;overflow: auto;}#sk-container-id-9 input.sk-toggleable__control:checked~label.sk-toggleable__label-arrow:before {content: \"▾\";}#sk-container-id-9 div.sk-estimator input.sk-toggleable__control:checked~label.sk-toggleable__label {background-color: #d4ebff;}#sk-container-id-9 div.sk-label input.sk-toggleable__control:checked~label.sk-toggleable__label {background-color: #d4ebff;}#sk-container-id-9 input.sk-hidden--visually {border: 0;clip: rect(1px 1px 1px 1px);clip: rect(1px, 1px, 1px, 1px);height: 1px;margin: -1px;overflow: hidden;padding: 0;position: absolute;width: 1px;}#sk-container-id-9 div.sk-estimator {font-family: monospace;background-color: #f0f8ff;border: 1px dotted black;border-radius: 0.25em;box-sizing: border-box;margin-bottom: 0.5em;}#sk-container-id-9 div.sk-estimator:hover {background-color: #d4ebff;}#sk-container-id-9 div.sk-parallel-item::after {content: \"\";width: 100%;border-bottom: 1px solid gray;flex-grow: 1;}#sk-container-id-9 div.sk-label:hover label.sk-toggleable__label {background-color: #d4ebff;}#sk-container-id-9 div.sk-serial::before {content: \"\";position: absolute;border-left: 1px solid gray;box-sizing: border-box;top: 0;bottom: 0;left: 50%;z-index: 0;}#sk-container-id-9 div.sk-serial {display: flex;flex-direction: column;align-items: center;background-color: white;padding-right: 0.2em;padding-left: 0.2em;position: relative;}#sk-container-id-9 div.sk-item {position: relative;z-index: 1;}#sk-container-id-9 div.sk-parallel {display: flex;align-items: stretch;justify-content: center;background-color: white;position: relative;}#sk-container-id-9 div.sk-item::before, #sk-container-id-9 div.sk-parallel-item::before {content: \"\";position: absolute;border-left: 1px solid gray;box-sizing: border-box;top: 0;bottom: 0;left: 50%;z-index: -1;}#sk-container-id-9 div.sk-parallel-item {display: flex;flex-direction: column;z-index: 1;position: relative;background-color: white;}#sk-container-id-9 div.sk-parallel-item:first-child::after {align-self: flex-end;width: 50%;}#sk-container-id-9 div.sk-parallel-item:last-child::after {align-self: flex-start;width: 50%;}#sk-container-id-9 div.sk-parallel-item:only-child::after {width: 0;}#sk-container-id-9 div.sk-dashed-wrapped {border: 1px dashed gray;margin: 0 0.4em 0.5em 0.4em;box-sizing: border-box;padding-bottom: 0.4em;background-color: white;}#sk-container-id-9 div.sk-label label {font-family: monospace;font-weight: bold;display: inline-block;line-height: 1.2em;}#sk-container-id-9 div.sk-label-container {text-align: center;}#sk-container-id-9 div.sk-container {/* jupyter's `normalize.less` sets `[hidden] { display: none; }` but bootstrap.min.css set `[hidden] { display: none !important; }` so we also need the `!important` here to be able to override the default hidden behavior on the sphinx rendered scikit-learn.org. See: https://github.com/scikit-learn/scikit-learn/issues/21755 */display: inline-block !important;position: relative;}#sk-container-id-9 div.sk-text-repr-fallback {display: none;}</style><div id=\"sk-container-id-9\" class=\"sk-top-container\"><div class=\"sk-text-repr-fallback\"><pre>Perceptron(eta0=0.01, max_iter=100, random_state=1)</pre><b>In a Jupyter environment, please rerun this cell to show the HTML representation or trust the notebook. <br />On GitHub, the HTML representation is unable to render, please try loading this page with nbviewer.org.</b></div><div class=\"sk-container\" hidden><div class=\"sk-item\"><div class=\"sk-estimator sk-toggleable\"><input class=\"sk-toggleable__control sk-hidden--visually\" id=\"sk-estimator-id-9\" type=\"checkbox\" checked><label for=\"sk-estimator-id-9\" class=\"sk-toggleable__label sk-toggleable__label-arrow\">Perceptron</label><div class=\"sk-toggleable__content\"><pre>Perceptron(eta0=0.01, max_iter=100, random_state=1)</pre></div></div></div></div></div>"
      ],
      "text/plain": [
       "Perceptron(eta0=0.01, max_iter=100, random_state=1)"
      ]
     },
     "execution_count": 107,
     "metadata": {},
     "output_type": "execute_result"
    }
   ],
   "source": [
    "ppn_clf = Perceptron(eta0=0.01,max_iter=100,random_state=1)\n",
    "ppn_clf.fit(x_train,y_train)"
   ]
  },
  {
   "cell_type": "code",
   "execution_count": 108,
   "id": "a9b0aef5-02ad-4076-971d-cf2ba3bae979",
   "metadata": {},
   "outputs": [],
   "source": [
    "cross_val_score(ppn_clf, x_train, y_train, cv=3, scoring='accuracy')\n",
    "y_pred = ppn_clf.predict(x_test)\n",
    "y_score_ppn = cross_val_predict(ppn_clf, x_train, y_train, cv=3, method='decision_function')\n",
    "report = classification_report(y_test,y_pred)"
   ]
  },
  {
   "cell_type": "code",
   "execution_count": 109,
   "id": "ca79d07b-cfba-4d0a-969f-0480a162dda5",
   "metadata": {},
   "outputs": [
    {
     "name": "stdout",
     "output_type": "stream",
     "text": [
      "Report               precision    recall  f1-score   support\n",
      "\n",
      "           0       0.83      0.67      0.74       146\n",
      "           1       0.58      0.76      0.66        85\n",
      "\n",
      "    accuracy                           0.71       231\n",
      "   macro avg       0.70      0.72      0.70       231\n",
      "weighted avg       0.74      0.71      0.71       231\n",
      "\n"
     ]
    }
   ],
   "source": [
    "print(\"Report\",report)"
   ]
  },
  {
   "cell_type": "code",
   "execution_count": 110,
   "id": "f46e7c33-11ce-4678-93ee-584d5cf4456e",
   "metadata": {},
   "outputs": [
    {
     "name": "stdout",
     "output_type": "stream",
     "text": [
      "roc_auc_score of perceptron 0.7492513352474452\n",
      "accuracy score of perceptron 0.7056277056277056\n"
     ]
    }
   ],
   "source": [
    "print(f'roc_auc_score of perceptron {roc_auc_score(y_train, y_score_ppn)}')\n",
    "print(f'accuracy score of perceptron {accuracy_score(y_test,y_pred)}')"
   ]
  },
  {
   "cell_type": "code",
   "execution_count": null,
   "id": "e684ff56-d2c3-412f-810d-69616cd15160",
   "metadata": {},
   "outputs": [],
   "source": []
  },
  {
   "cell_type": "code",
   "execution_count": null,
   "id": "69770069-b8a8-4515-bc08-0ed260cde38d",
   "metadata": {},
   "outputs": [],
   "source": []
  }
 ],
 "metadata": {
  "kernelspec": {
   "display_name": "Python 3 (ipykernel)",
   "language": "python",
   "name": "python3"
  },
  "language_info": {
   "codemirror_mode": {
    "name": "ipython",
    "version": 3
   },
   "file_extension": ".py",
   "mimetype": "text/x-python",
   "name": "python",
   "nbconvert_exporter": "python",
   "pygments_lexer": "ipython3",
   "version": "3.10.12"
  }
 },
 "nbformat": 4,
 "nbformat_minor": 5
}
